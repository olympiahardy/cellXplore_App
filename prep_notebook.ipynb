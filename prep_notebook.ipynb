{
 "cells": [
  {
   "cell_type": "code",
   "execution_count": 20,
   "metadata": {},
   "outputs": [],
   "source": [
    "import spatialdata_io\n",
    "import spatialdata as sd\n",
    "import pandas as pd\n",
    "import squidpy as sq\n",
    "import scanpy as sc"
   ]
  },
  {
   "cell_type": "code",
   "execution_count": 21,
   "metadata": {},
   "outputs": [
    {
     "name": "stdout",
     "output_type": "stream",
     "text": [
      "0.1.7\n",
      "0.3.0\n",
      "2.2.3\n",
      "1.6.5\n",
      "1.11.1\n"
     ]
    }
   ],
   "source": [
    "print(spatialdata_io.__version__)\n",
    "print(sd.__version__)\n",
    "print(pd.__version__)\n",
    "print(sq.__version__)\n",
    "print(sc.__version__)"
   ]
  },
  {
   "cell_type": "code",
   "execution_count": null,
   "metadata": {},
   "outputs": [],
   "source": [
    "sdata = spatialdata_io.xenium(\"/home/olympia/cellXplore_App/raw_data/Xenium_breast_cancer/outs\")"
   ]
  },
  {
   "cell_type": "code",
   "execution_count": null,
   "metadata": {},
   "outputs": [],
   "source": [
    "sdata.write(\"/home/olympia/cellXplore_App/datasets/Xenium_proper_data.zarr\")"
   ]
  },
  {
   "cell_type": "code",
   "execution_count": null,
   "metadata": {},
   "outputs": [],
   "source": [
    "sdata = sd.read_zarr(\"/home/olympia/cellXplore_App/datasets/Xenium_proper_data.zarr\")"
   ]
  },
  {
   "cell_type": "code",
   "execution_count": null,
   "metadata": {},
   "outputs": [],
   "source": [
    "metadata = pd.read_csv(\"/home/olympia/cellXplore_App/raw_data/xenium_cell_type_annotations.csv\")"
   ]
  },
  {
   "cell_type": "code",
   "execution_count": null,
   "metadata": {},
   "outputs": [],
   "source": [
    "metadata_df = pd.DataFrame({\"clusters\": metadata[\"Cluster\"],\n",
    "                            \"cell_id\": sdata['cell_circles'].index})"
   ]
  },
  {
   "cell_type": "code",
   "execution_count": null,
   "metadata": {},
   "outputs": [],
   "source": [
    "metadata_df"
   ]
  },
  {
   "cell_type": "code",
   "execution_count": null,
   "metadata": {},
   "outputs": [],
   "source": [
    "sdata[\"table\"].obs = pd.merge(\n",
    "    sdata[\"table\"].obs, metadata_df, left_on=\"cell_id\", right_on=\"cell_id\", how=\"left\"\n",
    ")"
   ]
  },
  {
   "cell_type": "code",
   "execution_count": null,
   "metadata": {},
   "outputs": [],
   "source": [
    "sdata[\"table\"].obs"
   ]
  },
  {
   "cell_type": "code",
   "execution_count": null,
   "metadata": {},
   "outputs": [],
   "source": [
    "xe_rep1_adata = sdata[\"table\"]"
   ]
  },
  {
   "cell_type": "code",
   "execution_count": null,
   "metadata": {},
   "outputs": [],
   "source": [
    "xe_rep1_adata.obs[\"clusters\"] = pd.Categorical(xe_rep1_adata.obs[\"clusters\"].str.replace(\"_\", \" \"))"
   ]
  },
  {
   "cell_type": "code",
   "execution_count": null,
   "metadata": {},
   "outputs": [],
   "source": [
    "xe_rep1_adata.obs.info()"
   ]
  },
  {
   "cell_type": "code",
   "execution_count": null,
   "metadata": {},
   "outputs": [],
   "source": [
    "sc.pp.normalize_total(xe_rep1_adata, target_sum=1e4)\n",
    "sc.pp.log1p(xe_rep1_adata)\n",
    "sc.pp.pca(xe_rep1_adata)\n",
    "sc.pp.neighbors(xe_rep1_adata)\n",
    "sc.tl.umap(xe_rep1_adata)\n",
    "sc.tl.leiden(xe_rep1_adata)"
   ]
  },
  {
   "cell_type": "code",
   "execution_count": 15,
   "metadata": {},
   "outputs": [],
   "source": [
    "def replace_table(sdata):\n",
    "    # copy the table to a backup table\n",
    "    sdata[\"backup_table\"] = sdata[\"table\"]\n",
    "    sdata.write_element(\"backup_table\")\n",
    "\n",
    "    # rewrite the original one\n",
    "    sdata.delete_element_from_disk(\"table\")\n",
    "    sdata.write_element(\"table\")\n",
    "\n",
    "    # remove the backup copy\n",
    "    sdata.delete_element_from_disk(\"backup_table\")\n",
    "    del sdata.tables[\"backup_table\"]"
   ]
  },
  {
   "cell_type": "code",
   "execution_count": null,
   "metadata": {},
   "outputs": [],
   "source": [
    "sdata[\"table\"] = xe_rep1_adata"
   ]
  },
  {
   "cell_type": "code",
   "execution_count": null,
   "metadata": {},
   "outputs": [],
   "source": [
    "sdata"
   ]
  },
  {
   "cell_type": "code",
   "execution_count": 16,
   "metadata": {},
   "outputs": [],
   "source": [
    "replace_table(sdata)"
   ]
  },
  {
   "cell_type": "code",
   "execution_count": null,
   "metadata": {},
   "outputs": [],
   "source": []
  },
  {
   "cell_type": "code",
   "execution_count": null,
   "metadata": {},
   "outputs": [],
   "source": [
    "obs_ids = sdata.tables[\"table\"].obs[\"cell_id\"]\n",
    "shape_ids = sdata.shapes[\"cell_circles\"].index\n",
    "\n",
    "print(\"Shared IDs:\", len(set(obs_ids).intersection(set(shape_ids))))\n",
    "print(\"Total obs:\", len(obs_ids))\n",
    "print(\"Total shapes:\", len(shape_ids))"
   ]
  },
  {
   "cell_type": "code",
   "execution_count": null,
   "metadata": {},
   "outputs": [],
   "source": [
    "obs_ids = sdata.tables[\"table\"].obs.index\n",
    "shape_ids = sdata.shapes[\"cell_circles\"].index\n",
    "\n",
    "print(\"Shared IDs:\", len(set(obs_ids).intersection(set(shape_ids))))\n",
    "print(\"Total obs:\", len(obs_ids))\n",
    "print(\"Total shapes:\", len(shape_ids))"
   ]
  },
  {
   "cell_type": "code",
   "execution_count": null,
   "metadata": {},
   "outputs": [],
   "source": [
    "sdata.tables[\"table\"].obs.index = shape_ids"
   ]
  },
  {
   "cell_type": "code",
   "execution_count": null,
   "metadata": {},
   "outputs": [],
   "source": [
    "sdata.tables[\"table\"].obs[\"Clusters\"] = sdata.tables[\"table\"].obs[\"Clusters\"].str.replace(\"_\", \" \")"
   ]
  },
  {
   "cell_type": "code",
   "execution_count": null,
   "metadata": {},
   "outputs": [],
   "source": [
    "sdata.tables[\"table\"].obs[\"Clusters\"]"
   ]
  },
  {
   "cell_type": "code",
   "execution_count": null,
   "metadata": {},
   "outputs": [],
   "source": [
    "sdata.tables[\"table\"].obs[\"Clusters\"] = sdata.tables[\"table\"].obs[\"Clusters\"].astype('category')"
   ]
  },
  {
   "cell_type": "code",
   "execution_count": null,
   "metadata": {},
   "outputs": [],
   "source": [
    "sdata.tables[\"table\"].obs[\"Clusters\"]"
   ]
  },
  {
   "cell_type": "code",
   "execution_count": 14,
   "metadata": {},
   "outputs": [],
   "source": [
    "sdata.tables[\"table\"].obs.index = sdata.shapes[\"cell_circles\"].index"
   ]
  },
  {
   "cell_type": "code",
   "execution_count": null,
   "metadata": {},
   "outputs": [],
   "source": [
    "sdata.shapes[\"cell_circles\"].index"
   ]
  },
  {
   "cell_type": "code",
   "execution_count": 13,
   "metadata": {},
   "outputs": [
    {
     "name": "stdout",
     "output_type": "stream",
     "text": [
      "Shared IDs: 0\n",
      "Total obs: 167780\n",
      "Total shapes: 167780\n"
     ]
    }
   ],
   "source": [
    "obs_ids = sdata.tables[\"table\"].obs.index\n",
    "shape_ids = sdata.shapes[\"cell_circles\"].index\n",
    "\n",
    "print(\"Shared IDs:\", len(set(obs_ids).intersection(set(shape_ids))))\n",
    "print(\"Total obs:\", len(obs_ids))\n",
    "print(\"Total shapes:\", len(shape_ids))"
   ]
  },
  {
   "cell_type": "code",
   "execution_count": null,
   "metadata": {},
   "outputs": [],
   "source": [
    "sdata.write(\"/home/olympia/cellXplore_App/datasets/Breast_Cancer_Xenium_leiden_indexed.zarr\")"
   ]
  },
  {
   "cell_type": "code",
   "execution_count": 12,
   "metadata": {},
   "outputs": [
    {
     "name": "stderr",
     "output_type": "stream",
     "text": [
      "/home/olympia/mambaforge/envs/cellXplore_App_env/lib/python3.10/site-packages/zarr/creation.py:614: UserWarning: ignoring keyword argument 'read_only'\n",
      "  compressor, fill_value = _kwargs_compat(compressor, fill_value, kwargs)\n",
      "/home/olympia/mambaforge/envs/cellXplore_App_env/lib/python3.10/site-packages/anndata/_core/aligned_df.py:68: ImplicitModificationWarning: Transforming to str index.\n",
      "  warnings.warn(\"Transforming to str index.\", ImplicitModificationWarning)\n"
     ]
    }
   ],
   "source": [
    "sdata = sd.read_zarr(\"/home/olympia/cellXplore_App/datasets/Xenium_proper_data.zarr\")"
   ]
  },
  {
   "cell_type": "code",
   "execution_count": null,
   "metadata": {},
   "outputs": [],
   "source": [
    "sdata"
   ]
  },
  {
   "cell_type": "code",
   "execution_count": null,
   "metadata": {},
   "outputs": [],
   "source": [
    "def replace_table(sdata):\n",
    "    # copy the table to a backup table\n",
    "    sdata[\"backup_table\"] = sdata[\"table\"]\n",
    "    sdata.write_element(\"backup_table\")\n",
    "\n",
    "    # rewrite the original one\n",
    "    sdata.delete_element_from_disk(\"table\")\n",
    "    sdata.write_element(\"table\")\n",
    "\n",
    "    # remove the backup copy\n",
    "    sdata.delete_element_from_disk(\"backup_table\")\n",
    "    del sdata.tables[\"backup_table\"]"
   ]
  },
  {
   "cell_type": "code",
   "execution_count": null,
   "metadata": {},
   "outputs": [],
   "source": [
    "replace_table(sdata)"
   ]
  },
  {
   "cell_type": "code",
   "execution_count": null,
   "metadata": {},
   "outputs": [],
   "source": [
    "sdata['table'].obs"
   ]
  },
  {
   "cell_type": "code",
   "execution_count": null,
   "metadata": {},
   "outputs": [],
   "source": [
    "sdata2 = sd.read_zarr(\"/home/olympia/cellXplore_App/datasets/Breast_Cancer_Xenium_matched_index.zarr\")"
   ]
  },
  {
   "cell_type": "code",
   "execution_count": null,
   "metadata": {},
   "outputs": [],
   "source": [
    "# Convert both to string and align\n",
    "shape_ids = sdata.shapes[\"cell_circles\"].index.astype(str)\n",
    "sdata.shapes[\"cell_circles\"].index = shape_ids\n",
    "sdata.table.obs.index = sdata.table.obs.index.astype(str)\n",
    "\n",
    "# Set safe index name\n",
    "sdata.table.obs.index.name = \"obs_id\""
   ]
  },
  {
   "cell_type": "code",
   "execution_count": null,
   "metadata": {},
   "outputs": [],
   "source": [
    "from vitessce import (VitessceConfig, \n",
    "                      AnnDataWrapper, \n",
    "                      SpatialDataWrapper,\n",
    "                      Component as cm, \n",
    "                      get_initial_coordination_scope_prefix, \n",
    "                      CoordinationLevel as CL, \n",
    "                      ImageOmeZarrWrapper,\n",
    "                      CoordinationType as ct,\n",
    "                      ViewType as vt,\n",
    "                      CsvWrapper,\n",
    "                      DataType as dt\n",
    ")"
   ]
  },
  {
   "cell_type": "code",
   "execution_count": null,
   "metadata": {},
   "outputs": [],
   "source": [
    "# Initialize Vitessce Configuration\n",
    "vc = VitessceConfig(schema_version=\"1.0.17\", name='Breast Cancer Multi-Modal', description=\"Janesick, A., Shelansky, R., Gottscho, A.D. et al. High resolution mapping of the tumor microenvironment using integrated single-cell, spatial and in situ analysis. Nat Commun 14, 8353 (2023). https://doi.org/10.1038/s41467-023-43458-x\")\n",
    "\n",
    "# Single-Cell Dataset (scRNA-seq)\n",
    "sc_dataset = vc.add_dataset(name='Single-Cell RNA').add_object(AnnDataWrapper(\n",
    "    adata_path=\"/home/olympia/cellXplore_App/datasets/sc_FPPE_breast_cancer.zarr\",\n",
    "    obs_feature_matrix_path=\"X\",\n",
    "    obs_embedding_paths=[\"obsm/X_umap\"],\n",
    "    obs_embedding_names=[\"UMAP\"],\n",
    "    obs_set_paths=[\"obs/clusters\", \"obs/Cell_Type\"],\n",
    "    obs_set_names=[\"Clusters\", \"Cell Type\"],\n",
    "    coordination_values={\n",
    "    \"obsType\": \"cell\",\n",
    "    \"obsSetSelection\": \"obsSetSelectionScope\",\n",
    "    },\n",
    "))\n",
    "\n",
    "# Xenium Spatial Dataset\n",
    "sp_wrapper = SpatialDataWrapper(\n",
    "    sdata_path=\"/home/olympia/cellXplore_App/datasets/Breast_Cancer_Xenium_leiden.zarr\",  # Path to Xenium dataset\n",
    "    image_path=\"images/morphology_focus\",  # Adjust this based on your Zarr file structure\n",
    "    obs_feature_matrix_path=\"tables/table/X\",  # Adjust this based on Xenium data\n",
    "    obs_set_paths=[\"tables/table/obs/Clusters\"],  # Cluster annotations\n",
    "    obs_set_names=[\"Clusters\"],\n",
    "    obs_spots_path=\"shapes/cell_circles\",\n",
    "    coordinate_system=\"global\",\n",
    "    coordination_values={\"obsType\": \"spot\",\n",
    "                                 \"featureType\": \"gene\",\n",
    "                                 \"featureValueType\": \"expression\"},)\n",
    "\n",
    "xenium_dataset = vc.add_dataset(name='Breast Cancer Visium').add_object(sp_wrapper)\n",
    "\n",
    "# Views for Xenium Spatial Data\n",
    "spatial_view = vc.add_view(\"spatialBeta\", dataset=xenium_dataset, x=0.0, y = 6.0, w=6.0,h=6.0)\n",
    "lc_view = vc.add_view(\"layerControllerBeta\", dataset=xenium_dataset,x=6.0, y = 6.0, w=3.0, h=3.0)\n",
    "feature_list_spatial = vc.add_view(\"featureList\", dataset=xenium_dataset, x=9.0, y = 6.0, w=3.0, h=3.0)\n",
    "xenium_obs_sets = vc.add_view(cm.OBS_SETS, dataset=xenium_dataset, x=6.0, y = 3.0, w=3.0, h=3.0)\n",
    "\n",
    "description = vc.add_view(cm.DESCRIPTION, dataset=xenium_dataset, x=9.0, y = 6.0, w=3.0, h=3.0)\n",
    "# description = vc.add_view(cm.DESCRIPTION, x=6.0, y = 6.0, w=3.0, h=3.0, props={'Some dataset'})\n",
    "\n",
    "# layer_controller = vc.add_view(\"layerControllerBeta\", dataset=xenium_dataset)\n",
    "vc.link_views_by_dict([spatial_view, lc_view], {\n",
    "    'imageLayer': CL([{\n",
    "        'photometricInterpretation': 'RGB',\n",
    "        }])\n",
    "    }, scope_prefix=get_initial_coordination_scope_prefix(\"B\", \"image\"))\n",
    "\n",
    "# Views for Single-Cell Data\n",
    "scatterplot = vc.add_view(cm.SCATTERPLOT, dataset=sc_dataset, mapping=\"UMAP\", x=0.0, y = 0.0, w=6.0,h=6.0)\n",
    "cell_sets = vc.add_view(cm.OBS_SETS, dataset=sc_dataset, x=6.0, y = 0.0, w=3.0, h=4.0)\n",
    "feature_list = vc.add_view(cm.FEATURE_LIST, dataset=sc_dataset, x=9.0, y = 0.0, w=3.0, h=4.0)\n",
    "\n",
    "# Link views appropriately\n",
    "vc.link_views([scatterplot, spatial_view, feature_list, cell_sets], [\"obsType\", \"obsSetSelection\"], [\"cell\", []])\n",
    "vc.link_views([spatial_view, xenium_obs_sets, feature_list_spatial, lc_view], [\"obsType\", \"obsSetSelection\"], [\"spot\", []])\n",
    "\n",
    "vw = vc.widget()\n",
    "vw\n"
   ]
  },
  {
   "cell_type": "code",
   "execution_count": null,
   "metadata": {},
   "outputs": [],
   "source": [
    "sdata"
   ]
  },
  {
   "cell_type": "code",
   "execution_count": null,
   "metadata": {},
   "outputs": [],
   "source": [
    "sdata.shapes[\"cell_circles\"].index"
   ]
  },
  {
   "cell_type": "code",
   "execution_count": null,
   "metadata": {},
   "outputs": [],
   "source": [
    "sdata.shapes[\"cell_circles\"].index.astype(str)"
   ]
  },
  {
   "cell_type": "code",
   "execution_count": null,
   "metadata": {},
   "outputs": [],
   "source": [
    "sdata.tables[\"table\"].obs.index.astype(str)"
   ]
  },
  {
   "cell_type": "code",
   "execution_count": null,
   "metadata": {},
   "outputs": [],
   "source": []
  },
  {
   "cell_type": "code",
   "execution_count": null,
   "metadata": {},
   "outputs": [],
   "source": []
  },
  {
   "cell_type": "code",
   "execution_count": null,
   "metadata": {},
   "outputs": [],
   "source": []
  },
  {
   "cell_type": "code",
   "execution_count": null,
   "metadata": {},
   "outputs": [],
   "source": [
    "import anndata as ad"
   ]
  },
  {
   "cell_type": "code",
   "execution_count": null,
   "metadata": {},
   "outputs": [],
   "source": [
    "scdata = ad.read_zarr(\"/home/olympia/cellXplore_App/datasets/sc_FPPE_breast_cancer.zarr\")"
   ]
  },
  {
   "cell_type": "code",
   "execution_count": null,
   "metadata": {},
   "outputs": [],
   "source": [
    "scdata"
   ]
  },
  {
   "cell_type": "code",
   "execution_count": null,
   "metadata": {},
   "outputs": [],
   "source": [
    "scdata.obs"
   ]
  },
  {
   "cell_type": "code",
   "execution_count": null,
   "metadata": {},
   "outputs": [],
   "source": [
    "scdata.obs.info()"
   ]
  },
  {
   "cell_type": "code",
   "execution_count": null,
   "metadata": {},
   "outputs": [],
   "source": [
    "import zarr\n",
    "z = zarr.open(\"/home/olympia/cellXplore_App/datasets/Xenium_proper_data.zarr\", mode=\"r\")\n"
   ]
  },
  {
   "cell_type": "code",
   "execution_count": 2,
   "metadata": {},
   "outputs": [
    {
     "name": "stdout",
     "output_type": "stream",
     "text": [
      "KeysView(<zarr.hierarchy.Group '/tables/table/obs' read-only>)\n",
      "KeysView(<zarr.hierarchy.Group '/tables/table/obs/clusters' read-only>)\n"
     ]
    }
   ],
   "source": [
    "print(z[\"tables/table/obs\"].keys())  # Check what's under obs\n",
    "print(z[\"tables/table/obs/clusters\"].keys())"
   ]
  },
  {
   "cell_type": "code",
   "execution_count": 3,
   "metadata": {},
   "outputs": [
    {
     "name": "stdout",
     "output_type": "stream",
     "text": [
      "(167780,)\n"
     ]
    }
   ],
   "source": [
    "print(z[\"tables/table/obs/clusters/codes\"].shape)"
   ]
  },
  {
   "cell_type": "code",
   "execution_count": 4,
   "metadata": {},
   "outputs": [
    {
     "name": "stdout",
     "output_type": "stream",
     "text": [
      "n_obs: 167780\n",
      "n_clusters: 167780\n"
     ]
    }
   ],
   "source": [
    "# z = zarr.open(\"/home/olympia/cellXplore_App/datasets/Xenium_proper_data.zarr\", mode=\"r\")\n",
    "\n",
    "n_obs = z[\"tables/table/obs/cell_id\"].shape[0]\n",
    "n_clusters = z[\"tables/table/obs/clusters/codes\"].shape[0]\n",
    "\n",
    "print(f\"n_obs: {n_obs}\")\n",
    "print(f\"n_clusters: {n_clusters}\")"
   ]
  },
  {
   "cell_type": "code",
   "execution_count": 5,
   "metadata": {},
   "outputs": [
    {
     "name": "stdout",
     "output_type": "stream",
     "text": [
      "['B Cells' 'CD4+ T Cells' 'CD8+ T Cells' 'DCIS 1' 'DCIS 2' 'Endothelial'\n",
      " 'IRF7+ DCs' 'Invasive Tumor' 'LAMP3+ DCs' 'Macrophages 1' 'Macrophages 2'\n",
      " 'Mast Cells' 'Myoepi ACTA2+' 'Myoepi KRT15+' 'Perivascular-Like'\n",
      " 'Prolif Invasive Tumor' 'Stromal' 'Stromal & T Cell Hybrid'\n",
      " 'T Cell & Tumor Hybrid' 'Unlabeled']\n"
     ]
    }
   ],
   "source": [
    "print(z[\"tables/table/obs/clusters/categories\"][:])"
   ]
  },
  {
   "cell_type": "code",
   "execution_count": 6,
   "metadata": {},
   "outputs": [
    {
     "name": "stdout",
     "output_type": "stream",
     "text": [
      "{'encoding-type': 'array', 'encoding-version': '0.2.0'}\n"
     ]
    }
   ],
   "source": [
    "import json\n",
    "with open(\"/home/olympia/cellXplore_App/datasets/Xenium_proper_data.zarr/tables/table/obs/clusters/codes/.zattrs\") as f:\n",
    "    print(json.load(f))"
   ]
  },
  {
   "cell_type": "code",
   "execution_count": 7,
   "metadata": {},
   "outputs": [],
   "source": [
    "import zarr\n",
    "\n",
    "z = zarr.open(\"/home/olympia/cellXplore_App/datasets/Xenium_proper_data.zarr\", mode=\"a\")\n",
    "z[\"tables/table/obs/clusters/codes\"].attrs[\"_ARRAY_DIMENSIONS\"] = [\"obs\"]"
   ]
  },
  {
   "cell_type": "code",
   "execution_count": 8,
   "metadata": {},
   "outputs": [
    {
     "data": {
      "text/plain": [
       "(167780,)"
      ]
     },
     "execution_count": 8,
     "metadata": {},
     "output_type": "execute_result"
    }
   ],
   "source": [
    "z[\"tables/table/obs/clusters/codes\"].shape"
   ]
  },
  {
   "cell_type": "code",
   "execution_count": 17,
   "metadata": {},
   "outputs": [
    {
     "name": "stdout",
     "output_type": "stream",
     "text": [
      "/\n",
      " ├── images\n",
      " │   ├── morphology_focus\n",
      " │   │   ├── 0 (1, 25778, 35416) uint16\n",
      " │   │   ├── 1 (1, 12889, 17708) uint16\n",
      " │   │   ├── 2 (1, 6444, 8854) uint16\n",
      " │   │   ├── 3 (1, 3222, 4427) uint16\n",
      " │   │   └── 4 (1, 1611, 2213) uint16\n",
      " │   └── morphology_mip\n",
      " │       ├── 0 (1, 25778, 35416) uint16\n",
      " │       ├── 1 (1, 12889, 17708) uint16\n",
      " │       ├── 2 (1, 6444, 8854) uint16\n",
      " │       ├── 3 (1, 3222, 4427) uint16\n",
      " │       └── 4 (1, 1611, 2213) uint16\n",
      " ├── labels\n",
      " │   ├── cell_labels\n",
      " │   │   ├── 0 (25778, 35416) uint32\n",
      " │   │   ├── 1 (12889, 17708) uint32\n",
      " │   │   ├── 2 (6444, 8854) uint32\n",
      " │   │   ├── 3 (3222, 4427) uint32\n",
      " │   │   └── 4 (1611, 2213) uint32\n",
      " │   └── nucleus_labels\n",
      " │       ├── 0 (25778, 35416) uint32\n",
      " │       ├── 1 (12889, 17708) uint32\n",
      " │       ├── 2 (6444, 8854) uint32\n",
      " │       ├── 3 (3222, 4427) uint32\n",
      " │       └── 4 (1611, 2213) uint32\n",
      " ├── points\n",
      " │   └── transcripts\n",
      " ├── shapes\n",
      " │   ├── cell_boundaries\n",
      " │   ├── cell_circles\n",
      " │   └── nucleus_boundaries\n",
      " └── tables\n",
      "     └── table\n",
      "         ├── X\n",
      "         │   ├── data (10604415,) float32\n",
      "         │   ├── indices (10604415,) int32\n",
      "         │   └── indptr (167781,) int32\n",
      "         ├── layers\n",
      "         ├── obs\n",
      "         │   ├── cell_area (167780,) float64\n",
      "         │   ├── cell_id (167780,) int32\n",
      "         │   ├── clusters\n",
      "         │   │   ├── categories (20,) object\n",
      "         │   │   └── codes (167780,) int8\n",
      "         │   ├── control_codeword_counts (167780,) int64\n",
      "         │   ├── control_probe_counts (167780,) int64\n",
      "         │   ├── leiden\n",
      "         │   │   ├── categories (15,) object\n",
      "         │   │   └── codes (167780,) int8\n",
      "         │   ├── nucleus_area (167780,) float64\n",
      "         │   ├── region\n",
      "         │   │   ├── categories (1,) object\n",
      "         │   │   └── codes (167780,) int8\n",
      "         │   ├── total_counts (167780,) int64\n",
      "         │   └── transcript_counts (167780,) int64\n",
      "         ├── obsm\n",
      "         │   ├── X_pca (167780, 50) float32\n",
      "         │   ├── X_umap (167780, 2) float32\n",
      "         │   └── spatial (167780, 2) float64\n",
      "         ├── obsp\n",
      "         │   ├── connectivities\n",
      "         │   │   ├── data (3895490,) float32\n",
      "         │   │   ├── indices (3895490,) int32\n",
      "         │   │   └── indptr (167781,) int32\n",
      "         │   └── distances\n",
      "         │       ├── data (2684480,) float32\n",
      "         │       ├── indices (2684480,) int32\n",
      "         │       └── indptr (167781,) int32\n",
      "         ├── uns\n",
      "         │   ├── leiden\n",
      "         │   │   └── params\n",
      "         │   │       ├── n_iterations () int64\n",
      "         │   │       ├── random_state () int64\n",
      "         │   │       └── resolution () int64\n",
      "         │   ├── log1p\n",
      "         │   ├── neighbors\n",
      "         │   │   ├── connectivities_key () <U14\n",
      "         │   │   ├── distances_key () <U9\n",
      "         │   │   └── params\n",
      "         │   │       ├── method () <U4\n",
      "         │   │       ├── metric () <U9\n",
      "         │   │       ├── n_neighbors () int64\n",
      "         │   │       └── random_state () int64\n",
      "         │   ├── pca\n",
      "         │   │   ├── params\n",
      "         │   │   │   ├── use_highly_variable () bool\n",
      "         │   │   │   └── zero_center () bool\n",
      "         │   │   ├── variance (50,) float64\n",
      "         │   │   └── variance_ratio (50,) float64\n",
      "         │   ├── spatialdata_attrs\n",
      "         │   │   ├── instance_key () <U7\n",
      "         │   │   ├── region () <U12\n",
      "         │   │   └── region_key () <U6\n",
      "         │   └── umap\n",
      "         │       └── params\n",
      "         │           ├── a () float64\n",
      "         │           └── b () float64\n",
      "         ├── var\n",
      "         │   ├── _index (313,) object\n",
      "         │   ├── feature_types (313,) object\n",
      "         │   ├── gene_ids (313,) object\n",
      "         │   └── genome (313,) object\n",
      "         ├── varm\n",
      "         │   └── PCs (313, 50) float32\n",
      "         └── varp\n"
     ]
    }
   ],
   "source": [
    "import zarr\n",
    "z = zarr.open(\"/home/olympia/cellXplore_App/datasets/Xenium_proper_data.zarr\", mode=\"r\")\n",
    "print(z.tree())"
   ]
  },
  {
   "cell_type": "code",
   "execution_count": 18,
   "metadata": {},
   "outputs": [
    {
     "name": "stderr",
     "output_type": "stream",
     "text": [
      "/home/olympia/mambaforge/envs/cellXplore_App_env/lib/python3.10/site-packages/zarr/creation.py:614: UserWarning: ignoring keyword argument 'read_only'\n",
      "  compressor, fill_value = _kwargs_compat(compressor, fill_value, kwargs)\n",
      "/home/olympia/mambaforge/envs/cellXplore_App_env/lib/python3.10/site-packages/anndata/_core/aligned_df.py:68: ImplicitModificationWarning: Transforming to str index.\n",
      "  warnings.warn(\"Transforming to str index.\", ImplicitModificationWarning)\n",
      "/tmp/ipykernel_3267365/3764418582.py:8: DeprecationWarning: Table accessor will be deprecated with SpatialData version 0.1, use sdata.tables instead.\n",
      "  print(\"Tables:\", list(sdata.table.keys()))\n"
     ]
    },
    {
     "name": "stdout",
     "output_type": "stream",
     "text": [
      "Images: ['morphology_focus', 'morphology_mip']\n",
      "Shapes: ['cell_boundaries', 'cell_circles', 'nucleus_boundaries']\n"
     ]
    },
    {
     "ename": "AttributeError",
     "evalue": "'AnnData' object has no attribute 'keys'",
     "output_type": "error",
     "traceback": [
      "\u001b[0;31m---------------------------------------------------------------------------\u001b[0m",
      "\u001b[0;31mAttributeError\u001b[0m                            Traceback (most recent call last)",
      "Cell \u001b[0;32mIn[18], line 8\u001b[0m\n\u001b[1;32m      6\u001b[0m \u001b[38;5;28mprint\u001b[39m(\u001b[38;5;124m\"\u001b[39m\u001b[38;5;124mImages:\u001b[39m\u001b[38;5;124m\"\u001b[39m, \u001b[38;5;28mlist\u001b[39m(sdata\u001b[38;5;241m.\u001b[39mimages\u001b[38;5;241m.\u001b[39mkeys()))\n\u001b[1;32m      7\u001b[0m \u001b[38;5;28mprint\u001b[39m(\u001b[38;5;124m\"\u001b[39m\u001b[38;5;124mShapes:\u001b[39m\u001b[38;5;124m\"\u001b[39m, \u001b[38;5;28mlist\u001b[39m(sdata\u001b[38;5;241m.\u001b[39mshapes\u001b[38;5;241m.\u001b[39mkeys()))\n\u001b[0;32m----> 8\u001b[0m \u001b[38;5;28mprint\u001b[39m(\u001b[38;5;124m\"\u001b[39m\u001b[38;5;124mTables:\u001b[39m\u001b[38;5;124m\"\u001b[39m, \u001b[38;5;28mlist\u001b[39m(\u001b[43msdata\u001b[49m\u001b[38;5;241;43m.\u001b[39;49m\u001b[43mtable\u001b[49m\u001b[38;5;241;43m.\u001b[39;49m\u001b[43mkeys\u001b[49m()))\n",
      "\u001b[0;31mAttributeError\u001b[0m: 'AnnData' object has no attribute 'keys'"
     ]
    }
   ],
   "source": [
    "import spatialdata as sd\n",
    "\n",
    "sdata = sd.read_zarr(\"/home/olympia/cellXplore_App/datasets/Xenium_proper_data.zarr\")\n",
    "\n",
    "\n",
    "print(\"Images:\", list(sdata.images.keys()))\n",
    "print(\"Shapes:\", list(sdata.shapes.keys()))\n",
    "print(\"Tables:\", list(sdata.table.keys()))"
   ]
  },
  {
   "cell_type": "code",
   "execution_count": 19,
   "metadata": {},
   "outputs": [
    {
     "name": "stdout",
     "output_type": "stream",
     "text": [
      "Images: dict_keys(['morphology_focus', 'morphology_mip'])\n",
      "Shapes: dict_keys(['cell_boundaries', 'cell_circles', 'nucleus_boundaries'])\n",
      "Table X shape: (167780, 313)\n",
      "Table obs columns: Index(['cell_id', 'transcript_counts', 'control_probe_counts',\n",
      "       'control_codeword_counts', 'total_counts', 'cell_area', 'nucleus_area',\n",
      "       'region', 'clusters', 'leiden'],\n",
      "      dtype='object')\n"
     ]
    },
    {
     "name": "stderr",
     "output_type": "stream",
     "text": [
      "/tmp/ipykernel_3267365/389597953.py:8: DeprecationWarning: Table accessor will be deprecated with SpatialData version 0.1, use sdata.tables instead.\n",
      "  print(\"Table X shape:\", sdata.table.X.shape)\n",
      "/tmp/ipykernel_3267365/389597953.py:9: DeprecationWarning: Table accessor will be deprecated with SpatialData version 0.1, use sdata.tables instead.\n",
      "  print(\"Table obs columns:\", sdata.table.obs.columns)\n"
     ]
    }
   ],
   "source": [
    "# Check image keys\n",
    "print(\"Images:\", sdata.images.keys())  \n",
    "\n",
    "# Check shape keys\n",
    "print(\"Shapes:\", sdata.shapes.keys())  \n",
    "\n",
    "# Check table content\n",
    "print(\"Table X shape:\", sdata.table.X.shape)\n",
    "print(\"Table obs columns:\", sdata.table.obs.columns)\n"
   ]
  },
  {
   "cell_type": "code",
   "execution_count": 8,
   "metadata": {},
   "outputs": [],
   "source": [
    "import spatialdata as sd\n",
    "import scanpy as sc\n",
    "import anndata as ad\n",
    "sdata = ad.read_zarr(\"/home/olympia/cellXplore_App/datasets/sc_FPPE_breast_cancer.zarr\")"
   ]
  },
  {
   "cell_type": "code",
   "execution_count": null,
   "metadata": {},
   "outputs": [],
   "source": [
    "sc.read"
   ]
  },
  {
   "cell_type": "code",
   "execution_count": 9,
   "metadata": {},
   "outputs": [
    {
     "data": {
      "text/plain": [
       "AnnData object with n_obs × n_vars = 27962 × 16099\n",
       "    obs: 'clusters', 'Cell_Type'\n",
       "    var: 'highly_variable'\n",
       "    uns: 'Cell_Type_colors', 'clusters', 'clusters_colors', 'hvg', 'liana_res', 'log1p', 'neighbors', 'pca', 'umap'\n",
       "    obsm: 'X_pca', 'X_umap'\n",
       "    varm: 'PCs'"
      ]
     },
     "execution_count": 9,
     "metadata": {},
     "output_type": "execute_result"
    }
   ],
   "source": [
    "sdata"
   ]
  },
  {
   "cell_type": "code",
   "execution_count": 10,
   "metadata": {},
   "outputs": [
    {
     "data": {
      "text/html": [
       "<div>\n",
       "<style scoped>\n",
       "    .dataframe tbody tr th:only-of-type {\n",
       "        vertical-align: middle;\n",
       "    }\n",
       "\n",
       "    .dataframe tbody tr th {\n",
       "        vertical-align: top;\n",
       "    }\n",
       "\n",
       "    .dataframe thead th {\n",
       "        text-align: right;\n",
       "    }\n",
       "</style>\n",
       "<table border=\"1\" class=\"dataframe\">\n",
       "  <thead>\n",
       "    <tr style=\"text-align: right;\">\n",
       "      <th></th>\n",
       "      <th>clusters</th>\n",
       "      <th>Cell_Type</th>\n",
       "    </tr>\n",
       "  </thead>\n",
       "  <tbody>\n",
       "    <tr>\n",
       "      <th>AAACAAGCAAACGGGA-1</th>\n",
       "      <td>10</td>\n",
       "      <td>Stromal</td>\n",
       "    </tr>\n",
       "    <tr>\n",
       "      <th>AAACAAGCAAATAGGA-1</th>\n",
       "      <td>13</td>\n",
       "      <td>Macrophages 1</td>\n",
       "    </tr>\n",
       "    <tr>\n",
       "      <th>AAACAAGCAACAAGTT-1</th>\n",
       "      <td>8</td>\n",
       "      <td>Perivascular-Like</td>\n",
       "    </tr>\n",
       "    <tr>\n",
       "      <th>AAACAAGCAACCATTC-1</th>\n",
       "      <td>6</td>\n",
       "      <td>Myoepi ACTA2+</td>\n",
       "    </tr>\n",
       "    <tr>\n",
       "      <th>AAACAAGCAACTAAAC-1</th>\n",
       "      <td>2</td>\n",
       "      <td>Myoepi ACTA2+</td>\n",
       "    </tr>\n",
       "    <tr>\n",
       "      <th>...</th>\n",
       "      <td>...</td>\n",
       "      <td>...</td>\n",
       "    </tr>\n",
       "    <tr>\n",
       "      <th>TTTGTGAGTGGTTACT-1</th>\n",
       "      <td>12</td>\n",
       "      <td>DCIS 2</td>\n",
       "    </tr>\n",
       "    <tr>\n",
       "      <th>TTTGTGAGTGTTCCAG-1</th>\n",
       "      <td>3</td>\n",
       "      <td>Stromal</td>\n",
       "    </tr>\n",
       "    <tr>\n",
       "      <th>TTTGTGAGTTACTTCT-1</th>\n",
       "      <td>17</td>\n",
       "      <td>Prolif Invasive Tumor</td>\n",
       "    </tr>\n",
       "    <tr>\n",
       "      <th>TTTGTGAGTTGTCATA-1</th>\n",
       "      <td>7</td>\n",
       "      <td>DCIS 1</td>\n",
       "    </tr>\n",
       "    <tr>\n",
       "      <th>TTTGTGAGTTTGGCCA-1</th>\n",
       "      <td>0</td>\n",
       "      <td>Invasive Tumor</td>\n",
       "    </tr>\n",
       "  </tbody>\n",
       "</table>\n",
       "<p>27962 rows × 2 columns</p>\n",
       "</div>"
      ],
      "text/plain": [
       "                   clusters              Cell_Type\n",
       "AAACAAGCAAACGGGA-1       10                Stromal\n",
       "AAACAAGCAAATAGGA-1       13          Macrophages 1\n",
       "AAACAAGCAACAAGTT-1        8      Perivascular-Like\n",
       "AAACAAGCAACCATTC-1        6          Myoepi ACTA2+\n",
       "AAACAAGCAACTAAAC-1        2          Myoepi ACTA2+\n",
       "...                     ...                    ...\n",
       "TTTGTGAGTGGTTACT-1       12                 DCIS 2\n",
       "TTTGTGAGTGTTCCAG-1        3                Stromal\n",
       "TTTGTGAGTTACTTCT-1       17  Prolif Invasive Tumor\n",
       "TTTGTGAGTTGTCATA-1        7                 DCIS 1\n",
       "TTTGTGAGTTTGGCCA-1        0         Invasive Tumor\n",
       "\n",
       "[27962 rows x 2 columns]"
      ]
     },
     "execution_count": 10,
     "metadata": {},
     "output_type": "execute_result"
    }
   ],
   "source": [
    "sdata.obs"
   ]
  },
  {
   "cell_type": "code",
   "execution_count": 11,
   "metadata": {},
   "outputs": [
    {
     "name": "stdout",
     "output_type": "stream",
     "text": [
      "<class 'pandas.core.frame.DataFrame'>\n",
      "Index: 27962 entries, AAACAAGCAAACGGGA-1 to TTTGTGAGTTTGGCCA-1\n",
      "Data columns (total 2 columns):\n",
      " #   Column     Non-Null Count  Dtype   \n",
      "---  ------     --------------  -----   \n",
      " 0   clusters   27962 non-null  category\n",
      " 1   Cell_Type  26406 non-null  category\n",
      "dtypes: category(2)\n",
      "memory usage: 1.3+ MB\n"
     ]
    }
   ],
   "source": [
    "sdata.obs.info()"
   ]
  },
  {
   "cell_type": "code",
   "execution_count": 12,
   "metadata": {},
   "outputs": [
    {
     "data": {
      "text/plain": [
       "Index(['AAACAAGCAAACGGGA-1', 'AAACAAGCAAATAGGA-1', 'AAACAAGCAACAAGTT-1',\n",
       "       'AAACAAGCAACCATTC-1', 'AAACAAGCAACTAAAC-1', 'AAACAAGCAAGTCGCG-1',\n",
       "       'AAACAAGCAATACCCT-1', 'AAACAAGCAATGGGAG-1', 'AAACAAGCACAAGCGT-1',\n",
       "       'AAACAAGCACATTGTC-1',\n",
       "       ...\n",
       "       'TTTGGCGGTTTGTGAC-1', 'TTTGTGAGTAAAGCAT-1', 'TTTGTGAGTACTTAGC-1',\n",
       "       'TTTGTGAGTCCGTGAC-1', 'TTTGTGAGTGATAAAC-1', 'TTTGTGAGTGGTTACT-1',\n",
       "       'TTTGTGAGTGTTCCAG-1', 'TTTGTGAGTTACTTCT-1', 'TTTGTGAGTTGTCATA-1',\n",
       "       'TTTGTGAGTTTGGCCA-1'],\n",
       "      dtype='object', length=27962)"
      ]
     },
     "execution_count": 12,
     "metadata": {},
     "output_type": "execute_result"
    }
   ],
   "source": [
    "sdata.obs.index"
   ]
  },
  {
   "cell_type": "code",
   "execution_count": null,
   "metadata": {},
   "outputs": [],
   "source": []
  },
  {
   "cell_type": "code",
   "execution_count": null,
   "metadata": {},
   "outputs": [],
   "source": []
  },
  {
   "cell_type": "code",
   "execution_count": null,
   "metadata": {},
   "outputs": [],
   "source": []
  },
  {
   "cell_type": "code",
   "execution_count": null,
   "metadata": {},
   "outputs": [],
   "source": []
  }
 ],
 "metadata": {
  "kernelspec": {
   "display_name": "cellXplore_App_env",
   "language": "python",
   "name": "python3"
  },
  "language_info": {
   "codemirror_mode": {
    "name": "ipython",
    "version": 3
   },
   "file_extension": ".py",
   "mimetype": "text/x-python",
   "name": "python",
   "nbconvert_exporter": "python",
   "pygments_lexer": "ipython3",
   "version": "3.10.15"
  }
 },
 "nbformat": 4,
 "nbformat_minor": 2
}
